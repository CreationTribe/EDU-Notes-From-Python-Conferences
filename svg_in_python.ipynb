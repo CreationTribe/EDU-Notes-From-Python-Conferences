{
 "cells": [
  {
   "cell_type": "code",
   "execution_count": 1,
   "metadata": {
    "collapsed": true
   },
   "outputs": [],
   "source": [
    "# PyCon AU 2019\n",
    "# \"Pretty vector graphics - Playing with SVG in Python\" - Amanda J Hogan (PyCon AU 2019)\n",
    "# https://www.youtube.com/watch?v=Y-hQn4KQA70&feature=emb_logo"
   ]
  },
  {
   "cell_type": "code",
   "execution_count": 2,
   "outputs": [],
   "source": [
    "# Drawing a Line\n",
    "\n",
    "def draw_diagonal(x, y, x2, y2, color='black'):\n",
    "    # format a line for svg\n",
    "    return f'<line x1=\"{x}\" y1=\"{y}\" x2=\"{x2}\" \\\n",
    "                y2=\"{y2}\" stroke=\"{color}\" />'"
   ],
   "metadata": {
    "collapsed": false,
    "pycharm": {
     "name": "#%%\n"
    }
   }
  },
  {
   "cell_type": "code",
   "execution_count": null,
   "outputs": [],
   "source": [],
   "metadata": {
    "collapsed": false,
    "pycharm": {
     "name": "#%%\n"
    }
   }
  }
 ],
 "metadata": {
  "kernelspec": {
   "display_name": "Python 3",
   "language": "python",
   "name": "python3"
  },
  "language_info": {
   "codemirror_mode": {
    "name": "ipython",
    "version": 2
   },
   "file_extension": ".py",
   "mimetype": "text/x-python",
   "name": "python",
   "nbconvert_exporter": "python",
   "pygments_lexer": "ipython2",
   "version": "2.7.6"
  }
 },
 "nbformat": 4,
 "nbformat_minor": 0
}