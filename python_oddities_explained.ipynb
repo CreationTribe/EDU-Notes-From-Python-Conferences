{
 "cells": [
  {
   "cell_type": "code",
   "execution_count": null,
   "metadata": {
    "collapsed": true
   },
   "outputs": [],
   "source": [
    "# PyCon AU 2019\n",
    "# \"Python Oddities Explained\" - Trey Hunner (PyCon AU 2019)\n",
    "# https://www.youtube.com/redirect?q=https%3A%2F%2F2019.pycon-au.org%2Ftalks%2Fpython-oddities-explained&event=video_description&v=4MCT4WLf7Ac&redir_token=QUFFLUhqbV9aaGJXdVZPa2tkQUZFSGtWQnRIYU5xaXNmZ3xBQ3Jtc0trUjNNNzE1VGhza1dPd1FlcmN2dFlheTliRDdrWVA2STEtTWJKWEJDN29hNnNXV2RtMTVLOTdlTjc5c0t4T19maXI0NDlDMjFZbmJDNkRocDZhWnBYbUtzZ3VHRHRTMUpXMl9YUzN0Q21fcl93RWR2bw%3D%3D\n",
    "\n"
   ]
  }
 ],
 "metadata": {
  "kernelspec": {
   "display_name": "Python 3",
   "language": "python",
   "name": "python3"
  },
  "language_info": {
   "codemirror_mode": {
    "name": "ipython",
    "version": 2
   },
   "file_extension": ".py",
   "mimetype": "text/x-python",
   "name": "python",
   "nbconvert_exporter": "python",
   "pygments_lexer": "ipython2",
   "version": "2.7.6"
  }
 },
 "nbformat": 4,
 "nbformat_minor": 0
}