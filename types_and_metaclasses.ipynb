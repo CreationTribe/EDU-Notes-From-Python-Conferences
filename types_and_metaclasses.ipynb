{
 "cells": [
  {
   "cell_type": "code",
   "execution_count": 1,
   "metadata": {
    "collapsed": true
   },
   "outputs": [
    {
     "data": {
      "text/plain": "['__abs__',\n '__add__',\n '__and__',\n '__bool__',\n '__ceil__',\n '__class__',\n '__delattr__',\n '__dir__',\n '__divmod__',\n '__doc__',\n '__eq__',\n '__float__',\n '__floor__',\n '__floordiv__',\n '__format__',\n '__ge__',\n '__getattribute__',\n '__getnewargs__',\n '__gt__',\n '__hash__',\n '__index__',\n '__init__',\n '__init_subclass__',\n '__int__',\n '__invert__',\n '__le__',\n '__lshift__',\n '__lt__',\n '__mod__',\n '__mul__',\n '__ne__',\n '__neg__',\n '__new__',\n '__or__',\n '__pos__',\n '__pow__',\n '__radd__',\n '__rand__',\n '__rdivmod__',\n '__reduce__',\n '__reduce_ex__',\n '__repr__',\n '__rfloordiv__',\n '__rlshift__',\n '__rmod__',\n '__rmul__',\n '__ror__',\n '__round__',\n '__rpow__',\n '__rrshift__',\n '__rshift__',\n '__rsub__',\n '__rtruediv__',\n '__rxor__',\n '__setattr__',\n '__sizeof__',\n '__str__',\n '__sub__',\n '__subclasshook__',\n '__truediv__',\n '__trunc__',\n '__xor__',\n 'as_integer_ratio',\n 'bit_length',\n 'conjugate',\n 'denominator',\n 'from_bytes',\n 'imag',\n 'numerator',\n 'real',\n 'to_bytes']"
     },
     "execution_count": 1,
     "metadata": {},
     "output_type": "execute_result"
    }
   ],
   "source": [
    "# Notes from PyCon AU 2019\n",
    "# It's Pythons All The Way Down: Python Types & Metaclasses Made Simple Mark Smith\n",
    "# https://2019.pycon-au.org/talks/its-pythons-all-the-way-down-python-types-metaclasses-made-simple\n",
    "\n",
    "# display directives\n",
    "dir(1)"
   ]
  },
  {
   "cell_type": "code",
   "execution_count": 5,
   "outputs": [
    {
     "data": {
      "text/plain": "bool"
     },
     "execution_count": 5,
     "metadata": {},
     "output_type": "execute_result"
    }
   ],
   "source": [
    "# core types\n",
    "type(True)"
   ],
   "metadata": {
    "collapsed": false,
    "pycharm": {
     "name": "#%%\n"
    }
   }
  },
  {
   "cell_type": "code",
   "execution_count": 6,
   "outputs": [
    {
     "data": {
      "text/plain": "float"
     },
     "execution_count": 6,
     "metadata": {},
     "output_type": "execute_result"
    }
   ],
   "source": [
    "type(1.1)"
   ],
   "metadata": {
    "collapsed": false,
    "pycharm": {
     "name": "#%%\n"
    }
   }
  },
  {
   "cell_type": "code",
   "execution_count": 7,
   "outputs": [
    {
     "data": {
      "text/plain": "complex"
     },
     "execution_count": 7,
     "metadata": {},
     "output_type": "execute_result"
    }
   ],
   "source": [
    "type(2+3j)"
   ],
   "metadata": {
    "collapsed": false,
    "pycharm": {
     "name": "#%%\n"
    }
   }
  },
  {
   "cell_type": "code",
   "execution_count": 8,
   "outputs": [
    {
     "data": {
      "text/plain": "bytes"
     },
     "execution_count": 8,
     "metadata": {},
     "output_type": "execute_result"
    }
   ],
   "source": [
    "type(b\"52s\")"
   ],
   "metadata": {
    "collapsed": false,
    "pycharm": {
     "name": "#%%\n"
    }
   }
  },
  {
   "cell_type": "code",
   "execution_count": 9,
   "outputs": [
    {
     "data": {
      "text/plain": "str"
     },
     "execution_count": 9,
     "metadata": {},
     "output_type": "execute_result"
    }
   ],
   "source": [
    "type(\"common string\")"
   ],
   "metadata": {
    "collapsed": false,
    "pycharm": {
     "name": "#%%\n"
    }
   }
  },
  {
   "cell_type": "code",
   "execution_count": 10,
   "outputs": [
    {
     "data": {
      "text/plain": "function"
     },
     "execution_count": 10,
     "metadata": {},
     "output_type": "execute_result"
    }
   ],
   "source": [
    "# function & class oddities\n",
    "\n",
    "def fun():\n",
    "    pass\n",
    "\n",
    "type(fun)"
   ],
   "metadata": {
    "collapsed": false,
    "pycharm": {
     "name": "#%%\n"
    }
   }
  },
  {
   "cell_type": "code",
   "execution_count": 11,
   "outputs": [
    {
     "data": {
      "text/plain": "type"
     },
     "execution_count": 11,
     "metadata": {},
     "output_type": "execute_result"
    }
   ],
   "source": [
    "# METACLASS\n",
    "# Notice, a class is type: type\n",
    "\n",
    "class War:\n",
    "    pass\n",
    "\n",
    "type(War)"
   ],
   "metadata": {
    "collapsed": false,
    "pycharm": {
     "name": "#%%\n"
    }
   }
  },
  {
   "cell_type": "code",
   "execution_count": 12,
   "outputs": [
    {
     "data": {
      "text/plain": "type"
     },
     "execution_count": 12,
     "metadata": {},
     "output_type": "execute_result"
    }
   ],
   "source": [
    "# what type is type itself?\n",
    "# yup, it's 'type'\n",
    "type(type)"
   ],
   "metadata": {
    "collapsed": false,
    "pycharm": {
     "name": "#%%\n"
    }
   }
  },
  {
   "cell_type": "code",
   "execution_count": 13,
   "outputs": [
    {
     "data": {
      "text/plain": "True"
     },
     "execution_count": 13,
     "metadata": {},
     "output_type": "execute_result"
    }
   ],
   "source": [
    "type(War) == type(type)"
   ],
   "metadata": {
    "collapsed": false,
    "pycharm": {
     "name": "#%%\n"
    }
   }
  },
  {
   "cell_type": "code",
   "execution_count": 14,
   "outputs": [
    {
     "data": {
      "text/plain": "['__class__',\n '__delattr__',\n '__dict__',\n '__dir__',\n '__doc__',\n '__eq__',\n '__format__',\n '__ge__',\n '__getattribute__',\n '__gt__',\n '__hash__',\n '__init__',\n '__init_subclass__',\n '__le__',\n '__lt__',\n '__module__',\n '__ne__',\n '__new__',\n '__reduce__',\n '__reduce_ex__',\n '__repr__',\n '__setattr__',\n '__sizeof__',\n '__str__',\n '__subclasshook__',\n '__weakref__',\n 'useful_val']"
     },
     "execution_count": 14,
     "metadata": {},
     "output_type": "execute_result"
    }
   ],
   "source": [
    "# Classes are MUTABLE, duh\n",
    "# add attribute to War\n",
    "War.useful_val = \"abcde\"\n",
    "dir(War)"
   ],
   "metadata": {
    "collapsed": false,
    "pycharm": {
     "name": "#%%\n"
    }
   }
  },
  {
   "cell_type": "code",
   "execution_count": 15,
   "outputs": [
    {
     "ename": "TypeError",
     "evalue": "can't set attributes of built-in/extension type 'type'",
     "output_type": "error",
     "traceback": [
      "\u001B[0;31m---------------------------------------------------------------------------\u001B[0m",
      "\u001B[0;31mTypeError\u001B[0m                                 Traceback (most recent call last)",
      "\u001B[0;32m<ipython-input-15-a7aee6fa6c2c>\u001B[0m in \u001B[0;36m<module>\u001B[0;34m\u001B[0m\n\u001B[1;32m      1\u001B[0m \u001B[0;31m# however, type is not mutable ..\u001B[0m\u001B[0;34m\u001B[0m\u001B[0;34m\u001B[0m\u001B[0;34m\u001B[0m\u001B[0m\n\u001B[0;32m----> 2\u001B[0;31m \u001B[0mtype\u001B[0m\u001B[0;34m.\u001B[0m\u001B[0museful_val\u001B[0m \u001B[0;34m=\u001B[0m \u001B[0;34m\"abcde\"\u001B[0m\u001B[0;34m\u001B[0m\u001B[0;34m\u001B[0m\u001B[0m\n\u001B[0m\u001B[1;32m      3\u001B[0m \u001B[0;34m\u001B[0m\u001B[0m\n",
      "\u001B[0;31mTypeError\u001B[0m: can't set attributes of built-in/extension type 'type'"
     ]
    }
   ],
   "source": [
    "# however, type is not mutable ..\n",
    "type.useful_val = \"abcde\""
   ],
   "metadata": {
    "collapsed": false,
    "pycharm": {
     "name": "#%%\n"
    }
   }
  },
  {
   "cell_type": "code",
   "execution_count": 18,
   "outputs": [
    {
     "data": {
      "text/plain": "mappingproxy({'__module__': '__main__',\n              '__dict__': <attribute '__dict__' of 'War' objects>,\n              '__weakref__': <attribute '__weakref__' of 'War' objects>,\n              '__doc__': None,\n              'useful_val': 'abcde'})"
     },
     "execution_count": 18,
     "metadata": {},
     "output_type": "execute_result"
    }
   ],
   "source": [
    "# the dunder dict: a dictionary containing all\n",
    "# additional defs and vals\n",
    "War.__dict__"
   ],
   "metadata": {
    "collapsed": false,
    "pycharm": {
     "name": "#%%\n"
    }
   }
  },
  {
   "cell_type": "code",
   "execution_count": 19,
   "outputs": [
    {
     "data": {
      "text/plain": "mappingproxy({'__module__': '__main__',\n              '__dict__': <attribute '__dict__' of 'War' objects>,\n              '__weakref__': <attribute '__weakref__' of 'War' objects>,\n              '__doc__': None,\n              'useful_val': 'abcde'})"
     },
     "execution_count": 19,
     "metadata": {},
     "output_type": "execute_result"
    }
   ],
   "source": [
    "mywar = War\n",
    "mywar.__dict__"
   ],
   "metadata": {
    "collapsed": false,
    "pycharm": {
     "name": "#%%\n"
    }
   }
  },
  {
   "cell_type": "code",
   "execution_count": 20,
   "outputs": [
    {
     "data": {
      "text/plain": "type"
     },
     "execution_count": 20,
     "metadata": {},
     "output_type": "execute_result"
    }
   ],
   "source": [
    "mywar.__class__"
   ],
   "metadata": {
    "collapsed": false,
    "pycharm": {
     "name": "#%%\n"
    }
   }
  },
  {
   "cell_type": "code",
   "execution_count": 21,
   "outputs": [
    {
     "data": {
      "text/plain": "mappingproxy({'__repr__': <slot wrapper '__repr__' of 'type' objects>,\n              '__call__': <slot wrapper '__call__' of 'type' objects>,\n              '__getattribute__': <slot wrapper '__getattribute__' of 'type' objects>,\n              '__setattr__': <slot wrapper '__setattr__' of 'type' objects>,\n              '__delattr__': <slot wrapper '__delattr__' of 'type' objects>,\n              '__init__': <slot wrapper '__init__' of 'type' objects>,\n              '__new__': <function type.__new__(*args, **kwargs)>,\n              'mro': <method 'mro' of 'type' objects>,\n              '__subclasses__': <method '__subclasses__' of 'type' objects>,\n              '__prepare__': <method '__prepare__' of 'type' objects>,\n              '__instancecheck__': <method '__instancecheck__' of 'type' objects>,\n              '__subclasscheck__': <method '__subclasscheck__' of 'type' objects>,\n              '__dir__': <method '__dir__' of 'type' objects>,\n              '__sizeof__': <method '__sizeof__' of 'type' objects>,\n              '__basicsize__': <member '__basicsize__' of 'type' objects>,\n              '__itemsize__': <member '__itemsize__' of 'type' objects>,\n              '__flags__': <member '__flags__' of 'type' objects>,\n              '__weakrefoffset__': <member '__weakrefoffset__' of 'type' objects>,\n              '__base__': <member '__base__' of 'type' objects>,\n              '__dictoffset__': <member '__dictoffset__' of 'type' objects>,\n              '__mro__': <member '__mro__' of 'type' objects>,\n              '__name__': <attribute '__name__' of 'type' objects>,\n              '__qualname__': <attribute '__qualname__' of 'type' objects>,\n              '__bases__': <attribute '__bases__' of 'type' objects>,\n              '__module__': <attribute '__module__' of 'type' objects>,\n              '__abstractmethods__': <attribute '__abstractmethods__' of 'type' objects>,\n              '__dict__': <attribute '__dict__' of 'type' objects>,\n              '__doc__': <attribute '__doc__' of 'type' objects>,\n              '__text_signature__': <attribute '__text_signature__' of 'type' objects>})"
     },
     "execution_count": 21,
     "metadata": {},
     "output_type": "execute_result"
    }
   ],
   "source": [
    "mywar.__class__.__dict__"
   ],
   "metadata": {
    "collapsed": false,
    "pycharm": {
     "name": "#%%\n"
    }
   }
  },
  {
   "cell_type": "code",
   "execution_count": 22,
   "outputs": [
    {
     "data": {
      "text/plain": "(object,)"
     },
     "execution_count": 22,
     "metadata": {},
     "output_type": "execute_result"
    }
   ],
   "source": [
    "mywar.__class__.__bases__"
   ],
   "metadata": {
    "collapsed": false,
    "pycharm": {
     "name": "#%%\n"
    }
   }
  },
  {
   "cell_type": "code",
   "execution_count": 23,
   "outputs": [
    {
     "data": {
      "text/plain": "dict_keys(['__repr__', '__hash__', '__str__', '__getattribute__', '__setattr__', '__delattr__', '__lt__', '__le__', '__eq__', '__ne__', '__gt__', '__ge__', '__init__', '__new__', '__reduce_ex__', '__reduce__', '__subclasshook__', '__init_subclass__', '__format__', '__sizeof__', '__dir__', '__class__', '__doc__'])"
     },
     "execution_count": 23,
     "metadata": {},
     "output_type": "execute_result"
    }
   ],
   "source": [
    "object.__dict__.keys()"
   ],
   "metadata": {
    "collapsed": false,
    "pycharm": {
     "name": "#%%\n"
    }
   }
  },
  {
   "cell_type": "code",
   "execution_count": 24,
   "outputs": [],
   "source": [
    "# special case class method\n",
    "# a dunder __new__ function is automatically created and run whenever a new class is created\n",
    "# it is the job of dunder __new__ to instantiate the class\n",
    "# def __new__(cls, ...):\n",
    "# the instance is returned, then\n",
    "# dunder __init__ is called"
   ],
   "metadata": {
    "collapsed": false,
    "pycharm": {
     "name": "#%%\n"
    }
   }
  },
  {
   "cell_type": "code",
   "execution_count": 25,
   "outputs": [],
   "source": [
    "# Attribute lookup\n",
    "# __getattr__(self, _whatever_attribute_youre_looking_for)\n",
    "\n",
    "# Order of Lookup\n",
    "# 1. instance value\n",
    "# 2. class definition\n",
    "# 3. superclass (if there is one)\n",
    "# 4. supersuperclass ... on and on\n",
    "# 5. __getattr__\n",
    "# 6. attribute error"
   ],
   "metadata": {
    "collapsed": false,
    "pycharm": {
     "name": "#%%\n"
    }
   }
  },
  {
   "cell_type": "code",
   "execution_count": 26,
   "outputs": [],
   "source": [
    "# __getattribute__(self, name)\n",
    "\n",
    "# Order of Lookup\n",
    "# 0. __getattribute__\n",
    "# 1. instance value\n",
    "# 2. class definition\n",
    "# 3. superclass (if there is one)\n",
    "# 4. supersuperclass ... on and on\n",
    "# 5. __getattr__\n",
    "# 6. attribute error\n",
    "\n",
    "# ** for dunder attributes, __getattribute__, skips\n",
    "#     straight ahead to __getattr__"
   ],
   "metadata": {
    "collapsed": false,
    "pycharm": {
     "name": "#%%\n"
    }
   }
  },
  {
   "cell_type": "code",
   "execution_count": 29,
   "outputs": [],
   "source": [
    "# returns order of superclasses it will look through\n",
    "# inspect.getmro()"
   ],
   "metadata": {
    "collapsed": false,
    "pycharm": {
     "name": "#%%\n"
    }
   }
  },
  {
   "cell_type": "code",
   "execution_count": 31,
   "outputs": [],
   "source": [
    "# descriptor protocol set\n",
    "# descriptors are for allowing decorators to work\n",
    "# @property :\n",
    "# @classmethod :\n",
    "# @staticmethod :"
   ],
   "metadata": {
    "collapsed": false,
    "pycharm": {
     "name": "#%%\n"
    }
   }
  },
  {
   "cell_type": "code",
   "execution_count": 37,
   "outputs": [
    {
     "name": "stdout",
     "output_type": "stream",
     "text": [
      "You called __get__ with: <__main__.SimpleDescriptor object at 0x7fce7e551730>\n",
      "        <__main__.OrdinaryClass object at 0x7fce7eb99400>\n",
      "        <class '__main__.OrdinaryClass'>\n"
     ]
    }
   ],
   "source": [
    "# a descriptor is an object attribute with binding behavior\n",
    "# its attribute access has been overridden by methods\n",
    "# in the descriptor protocol\n",
    "\n",
    "# such methods are __get__, __set__, and __delete__\n",
    "# if any of these are defined for an object, they are\n",
    "# descriptors\n",
    "\n",
    "# EXAMPLE\n",
    "class SimpleDescriptor:\n",
    "    def __get__(self, instance, owner):\n",
    "        return f\"You called __get__ with: {self!r}\\n\\\n",
    "        {instance!r}\\n\\\n",
    "        {owner!r}\"\n",
    "\n",
    "class OrdinaryClass:\n",
    "    getme = SimpleDescriptor()\n",
    "\n",
    "ordinst = OrdinaryClass()\n",
    "print(ordinst.getme)\n",
    "\n",
    "# this is actually the underlying mechanisms that\n",
    "# properties use when they're called"
   ],
   "metadata": {
    "collapsed": false,
    "pycharm": {
     "name": "#%%\n"
    }
   }
  },
  {
   "cell_type": "code",
   "execution_count": 38,
   "outputs": [],
   "source": [
    "# Data vs. Non-Data descriptors\n",
    "\n",
    "## defining mutation functions (ie: __set__ or __delete__)\n",
    "#       gives you a Data Descriptor\n",
    "#  defining the non-mutable __get__\n",
    "#       gives you a Non-Data descriptor"
   ],
   "metadata": {
    "collapsed": false,
    "pycharm": {
     "name": "#%%\n"
    }
   }
  },
  {
   "cell_type": "code",
   "execution_count": 42,
   "outputs": [
    {
     "data": {
      "text/plain": "<function __main__.Car.drive(self)>"
     },
     "execution_count": 42,
     "metadata": {},
     "output_type": "execute_result"
    }
   ],
   "source": [
    "# Functions and Descriptors\n",
    "class Car:\n",
    "    def drive(self):\n",
    "        pass\n",
    "\n",
    "Car.drive"
   ],
   "metadata": {
    "collapsed": false,
    "pycharm": {
     "name": "#%%\n"
    }
   }
  },
  {
   "cell_type": "code",
   "execution_count": 43,
   "outputs": [
    {
     "data": {
      "text/plain": "<function __main__.Car.drive(self)>"
     },
     "execution_count": 43,
     "metadata": {},
     "output_type": "execute_result"
    }
   ],
   "source": [
    "mycar = Car\n",
    "mycar.drive"
   ],
   "metadata": {
    "collapsed": false,
    "pycharm": {
     "name": "#%%\n"
    }
   }
  },
  {
   "cell_type": "code",
   "execution_count": 46,
   "outputs": [
    {
     "data": {
      "text/plain": "<bound method Car.drive of <class '__main__.Car'>>"
     },
     "execution_count": 46,
     "metadata": {},
     "output_type": "execute_result"
    }
   ],
   "source": [
    "Car.drive.__get__(mycar, Car)"
   ],
   "metadata": {
    "collapsed": false,
    "pycharm": {
     "name": "#%%\n"
    }
   }
  },
  {
   "cell_type": "markdown",
   "source": [
    "![Attribute Lookup](media/attribute_lookup.png \"Attribute Lookup\")\n"
   ],
   "metadata": {
    "collapsed": false
   }
  },
  {
   "cell_type": "code",
   "execution_count": 49,
   "outputs": [
    {
     "data": {
      "text/plain": "'\\nuses for metaclasses\\n1. register a class on definition\\n2. initialize attributes (usually to set a name)\\n3. modify class based on definition\\n4. ensure subclass implementation\\n5. totally mess with the way a class behaves\\n'"
     },
     "execution_count": 49,
     "metadata": {},
     "output_type": "execute_result"
    }
   ],
   "source": [
    "# METACLASSES\n",
    "\"\"\"\n",
    "uses for metaclasses\n",
    "1. register a class on definition\n",
    "2. initialize attributes (usually to set a name)\n",
    "3. modify class based on definition\n",
    "4. ensure subclass implementation\n",
    "5. totally mess with the way a class behaves\n",
    "\"\"\""
   ],
   "metadata": {
    "collapsed": false,
    "pycharm": {
     "name": "#%%\n"
    }
   }
  },
  {
   "cell_type": "code",
   "execution_count": 54,
   "outputs": [
    {
     "ename": "NameError",
     "evalue": "name 'bases' is not defined",
     "output_type": "error",
     "traceback": [
      "\u001B[0;31m---------------------------------------------------------------------------\u001B[0m",
      "\u001B[0;31mNameError\u001B[0m                                 Traceback (most recent call last)",
      "\u001B[0;32m<ipython-input-54-ec466189388f>\u001B[0m in \u001B[0;36m<module>\u001B[0;34m\u001B[0m\n\u001B[1;32m      5\u001B[0m \u001B[0;34m\u001B[0m\u001B[0m\n\u001B[1;32m      6\u001B[0m \u001B[0;31m# create a NEW type\u001B[0m\u001B[0;34m\u001B[0m\u001B[0;34m\u001B[0m\u001B[0;34m\u001B[0m\u001B[0m\n\u001B[0;32m----> 7\u001B[0;31m \u001B[0mtype\u001B[0m\u001B[0;34m(\u001B[0m\u001B[0;34m'ClassName'\u001B[0m\u001B[0;34m,\u001B[0m \u001B[0mbases\u001B[0m\u001B[0;34m,\u001B[0m \u001B[0mclassdict\u001B[0m\u001B[0;34m)\u001B[0m \u001B[0;31m#-> <class ClassName>\u001B[0m\u001B[0;34m\u001B[0m\u001B[0;34m\u001B[0m\u001B[0m\n\u001B[0m\u001B[1;32m      8\u001B[0m \u001B[0;34m\u001B[0m\u001B[0m\n",
      "\u001B[0;31mNameError\u001B[0m: name 'bases' is not defined"
     ]
    }
   ],
   "source": [
    "# Type is Overloaded\n",
    "\n",
    "# get type of instance\n",
    "# type(myobj) #-> <class MyClass>\n",
    "\n",
    "# create a NEW type\n",
    "#    a factory for new classes\n",
    "# type('ClassName', bases, classdict) #-> <class ClassName>"
   ],
   "metadata": {
    "collapsed": false,
    "pycharm": {
     "name": "#%%\n"
    }
   }
  },
  {
   "cell_type": "code",
   "execution_count": 56,
   "outputs": [],
   "source": [
    "# Using TYPE to create a class\n",
    "def init_func(self, color):\n",
    "    self._color = color\n",
    "\n",
    "def drive(self):\n",
    "    print(\"you are driving car\")\n",
    "\n",
    "Car = type(\n",
    "        'Car',\n",
    "        (object,),\n",
    "        {\n",
    "                '__init__':init_func,\n",
    "                'drive':drive,\n",
    "        })\n",
    "\n",
    "my_car = Car('red')"
   ],
   "metadata": {
    "collapsed": false,
    "pycharm": {
     "name": "#%%\n"
    }
   }
  },
  {
   "cell_type": "code",
   "execution_count": 61,
   "outputs": [],
   "source": [
    "# Create a class for each combination of:\n",
    "'''\n",
    "class (A and B and C 3 classes):\n",
    "    def (A and B and C - belonging to each associated class):\n",
    "        pass\n",
    "'''\n",
    "# you could ...\n",
    "\n",
    "import itertools\n",
    "\n",
    "class A:\n",
    "    def a(self):\n",
    "        print(\"You called A.a\")\n",
    "\n",
    "class B:\n",
    "    def b(self):\n",
    "        print(\"You called B.b\")\n",
    "\n",
    "class C:\n",
    "    def c(self):\n",
    "        print(\"You called C.c\")\n",
    "\n",
    "\n",
    "for parents in itertools.combinations([A, B, C], 2):\n",
    "    classname = ''.join([c.__name__ for c in parents])\n",
    "    globals()[classname] = type(classname, parents, {})"
   ],
   "metadata": {
    "collapsed": false,
    "pycharm": {
     "name": "#%%\n"
    }
   }
  },
  {
   "cell_type": "code",
   "execution_count": 65,
   "outputs": [],
   "source": [
    "AB.__bases__\n",
    "my_ab = AB()"
   ],
   "metadata": {
    "collapsed": false,
    "pycharm": {
     "name": "#%%\n"
    }
   }
  },
  {
   "cell_type": "code",
   "execution_count": 69,
   "outputs": [
    {
     "name": "stdout",
     "output_type": "stream",
     "text": [
      "You called A.a\n"
     ]
    }
   ],
   "source": [
    "my_ab.a()"
   ],
   "metadata": {
    "collapsed": false,
    "pycharm": {
     "name": "#%%\n"
    }
   }
  },
  {
   "cell_type": "code",
   "execution_count": 70,
   "outputs": [
    {
     "name": "stdout",
     "output_type": "stream",
     "text": [
      "You called B.b\n"
     ]
    }
   ],
   "source": [
    "my_ab.b()"
   ],
   "metadata": {
    "collapsed": false,
    "pycharm": {
     "name": "#%%\n"
    }
   }
  },
  {
   "cell_type": "code",
   "execution_count": 72,
   "outputs": [
    {
     "data": {
      "text/plain": "<bound method A.a of <__main__.AB object at 0x7fce7effc6d0>>"
     },
     "execution_count": 72,
     "metadata": {},
     "output_type": "execute_result"
    }
   ],
   "source": [
    "my_ab.a"
   ],
   "metadata": {
    "collapsed": false,
    "pycharm": {
     "name": "#%%\n"
    }
   }
  },
  {
   "cell_type": "code",
   "execution_count": 75,
   "outputs": [],
   "source": [
    "'''\n",
    "  metaclass is a callable which returns a class\n",
    "\n",
    "  a metaclass is THE class of a class\n",
    "'''"
   ],
   "metadata": {
    "collapsed": false,
    "pycharm": {
     "name": "#%%\n"
    }
   }
  },
  {
   "cell_type": "code",
   "execution_count": 76,
   "outputs": [
    {
     "data": {
      "text/plain": "type"
     },
     "execution_count": 76,
     "metadata": {},
     "output_type": "execute_result"
    }
   ],
   "source": [
    "# a function AS a metaclass\n",
    "def stupid(classname, bases, attrdict):\n",
    "    return type(classname, bases, attrdict)\n",
    "\n",
    "class MyClass(metaclass=stupid):\n",
    "    pass\n",
    "\n",
    "type(MyClass)"
   ],
   "metadata": {
    "collapsed": false,
    "pycharm": {
     "name": "#%%\n"
    }
   }
  },
  {
   "cell_type": "code",
   "execution_count": 79,
   "outputs": [
    {
     "data": {
      "text/plain": "__main__.MyMeta"
     },
     "execution_count": 79,
     "metadata": {},
     "output_type": "execute_result"
    }
   ],
   "source": [
    "# applying a metaclass\n",
    "\n",
    "class MyMeta(type):\n",
    "    pass\n",
    "\n",
    "class MyClass(metaclass=MyMeta):\n",
    "    pass\n",
    "\n",
    "instance = MyClass()\n",
    "type(instance)\n",
    "type(MyClass)"
   ],
   "metadata": {
    "collapsed": false,
    "pycharm": {
     "name": "#%%\n"
    }
   }
  },
  {
   "cell_type": "code",
   "execution_count": 81,
   "outputs": [
    {
     "data": {
      "text/plain": "__main__.MyMeta"
     },
     "execution_count": 81,
     "metadata": {},
     "output_type": "execute_result"
    }
   ],
   "source": [
    "MyClass.__class__"
   ],
   "metadata": {
    "collapsed": false,
    "pycharm": {
     "name": "#%%\n"
    }
   }
  },
  {
   "cell_type": "code",
   "execution_count": null,
   "outputs": [],
   "source": [
    "'''\n",
    "    Before __new__() is called,\n",
    "    __prepare__(\n",
    "            cls,\n",
    "            name,\n",
    "            bases,\n",
    "            **kwargs)\n",
    "\n",
    "    is called only if we have provided it.\n",
    "\n",
    "    dunda prepare returns a dict that is the used to contain\n",
    "    everything within the class.\n",
    "'''"
   ],
   "metadata": {
    "collapsed": false,
    "pycharm": {
     "name": "#%%\n"
    }
   }
  },
  {
   "cell_type": "code",
   "execution_count": 82,
   "outputs": [
    {
     "data": {
      "text/plain": "'\\n    Before __new__(\\n            mcs,\\n            name,\\n            bases,\\n            classdict,\\n            **kwargs)\\n\\n    dunda new creates the class.\\n'"
     },
     "execution_count": 82,
     "metadata": {},
     "output_type": "execute_result"
    }
   ],
   "source": [
    "'''\n",
    "    Before __new__(\n",
    "            mcs,\n",
    "            name,\n",
    "            bases,\n",
    "            classdict,\n",
    "            **kwargs)\n",
    "\n",
    "    dunda new creates the class.\n",
    "'''"
   ],
   "metadata": {
    "collapsed": false,
    "pycharm": {
     "name": "#%%\n"
    }
   }
  },
  {
   "cell_type": "code",
   "execution_count": 83,
   "outputs": [],
   "source": [
    "'''\n",
    "    Keyword Arguments, aka: **kwargs\n",
    "\n",
    "\n",
    "'''\n",
    "\n",
    "class MyMeta(type):\n",
    "    def __new__(self, classname, bases, attrdict, private):\n",
    "        if private:\n",
    "            # do your clever here\n",
    "            pass\n",
    "        return super().__new__(\n",
    "                        self,\n",
    "                        classname,\n",
    "                        bases,\n",
    "                        attrdict)\n",
    "\n",
    "class MyClass(metaclass=MyMeta, private=True):\n",
    "    pass"
   ],
   "metadata": {
    "collapsed": false,
    "pycharm": {
     "name": "#%%\n"
    }
   }
  },
  {
   "cell_type": "markdown",
   "source": [
    "![Metaclasses & Inheritance](media/metaclasses_and_inheritance.png 'Metaclasses & Inheritance')"
   ],
   "metadata": {
    "collapsed": false
   }
  },
  {
   "cell_type": "markdown",
   "source": [
    "![Instance Attribute Lookup](media/instances_attribute_lookup.png 'Instance Attribute Lookup')"
   ],
   "metadata": {
    "collapsed": false,
    "pycharm": {
     "name": "#%% md\n"
    }
   }
  },
  {
   "cell_type": "code",
   "execution_count": 85,
   "outputs": [
    {
     "data": {
      "text/plain": "'\\n    Metaclasses are a part of the inheritance\\n    chain.\\n\\n    If you define a function on a metaclass\\n    then you can end up calling it via the class\\n    since metaclasses ARE the class of a class.\\n'"
     },
     "execution_count": 85,
     "metadata": {},
     "output_type": "execute_result"
    }
   ],
   "source": [
    "'''\n",
    "    Metaclasses are a part of the inheritance\n",
    "    chain.\n",
    "\n",
    "    If you define a function on a metaclass\n",
    "    then you can end up calling it via the class\n",
    "    since metaclasses ARE the class of a class.\n",
    "'''"
   ],
   "metadata": {
    "collapsed": false,
    "pycharm": {
     "name": "#%%\n"
    }
   }
  },
  {
   "cell_type": "code",
   "execution_count": null,
   "outputs": [],
   "source": [
    "# It's type all the way down ..."
   ],
   "metadata": {
    "collapsed": false,
    "pycharm": {
     "name": "#%%\n"
    }
   }
  },
  {
   "cell_type": "markdown",
   "source": [
    "### Instanception\n",
    "![Instanception](media/instanception.png 'Instanception')"
   ],
   "metadata": {
    "collapsed": false,
    "pycharm": {
     "name": "#%% md\n"
    }
   }
  },
  {
   "cell_type": "code",
   "execution_count": 87,
   "outputs": [],
   "source": [
    "# Method Resolution Order, aka mro :\n",
    "#   mro() and __mro__\n",
    "\n",
    "'''\n",
    "    this fun class changes your resolution order\n",
    "    into an alphabetized method resolution order.\n",
    "\n",
    "    **  __mro__ is calculated on class creation\n",
    "        __mro__ is meant to be read-only\n",
    "        __mro__ is recalculated whenever you update __bases__ on your class\n",
    "\n",
    "    tweet @judy2k if you find a practical use for this :P\n",
    "'''\n",
    "\n",
    "class AlphabeticMeta(type):\n",
    "    def __mro__(self):\n",
    "        default_mro = super().mro()\n",
    "        return sorted(\n",
    "                default_mro,\n",
    "                key=attrgetter('__name__'))"
   ],
   "metadata": {
    "collapsed": false,
    "pycharm": {
     "name": "#%%\n"
    }
   }
  },
  {
   "cell_type": "code",
   "execution_count": null,
   "outputs": [],
   "source": [
    "# Metaclasses usually have a baseclass associated with them\n",
    "\n",
    "# EXAMPLES:\n",
    "\n",
    "# Extend Model, get ModelBase metaclass:\n",
    "class Employee(Model):\n",
    "    pass\n",
    "\n",
    "# Extend ABC, get ABCMeta metaclass:\n",
    "class Driveable(ABC):\n",
    "    pass"
   ],
   "metadata": {
    "collapsed": false,
    "pycharm": {
     "name": "#%%\n"
    }
   }
  },
  {
   "cell_type": "code",
   "execution_count": 88,
   "outputs": [
    {
     "ename": "TypeError",
     "evalue": "Can't instantiate abstract class Car with abstract methods drive",
     "output_type": "error",
     "traceback": [
      "\u001B[0;31m---------------------------------------------------------------------------\u001B[0m",
      "\u001B[0;31mTypeError\u001B[0m                                 Traceback (most recent call last)",
      "\u001B[0;32m<ipython-input-88-1d8d9f4962ee>\u001B[0m in \u001B[0;36m<module>\u001B[0;34m\u001B[0m\n\u001B[1;32m     15\u001B[0m     \u001B[0;32mpass\u001B[0m\u001B[0;34m\u001B[0m\u001B[0;34m\u001B[0m\u001B[0m\n\u001B[1;32m     16\u001B[0m \u001B[0;34m\u001B[0m\u001B[0m\n\u001B[0;32m---> 17\u001B[0;31m \u001B[0mmy_car\u001B[0m \u001B[0;34m=\u001B[0m \u001B[0mCar\u001B[0m\u001B[0;34m(\u001B[0m\u001B[0;34m)\u001B[0m\u001B[0;34m\u001B[0m\u001B[0;34m\u001B[0m\u001B[0m\n\u001B[0m",
      "\u001B[0;31mTypeError\u001B[0m: Can't instantiate abstract class Car with abstract methods drive"
     ]
    }
   ],
   "source": [
    "# ABC\n",
    "#   Can't instantiate an abstract class\n",
    "\n",
    "# from abc import ABC\n",
    "import abc\n",
    "\n",
    "# parent\n",
    "class Driveable(abc.ABC):\n",
    "    @abc.abstractmethod\n",
    "    def drive(self):\n",
    "        pass\n",
    "\n",
    "# also abstract, no 'drive' method:\n",
    "class Car(Driveable):\n",
    "    pass\n",
    "\n",
    "my_car = Car()"
   ],
   "metadata": {
    "collapsed": false,
    "pycharm": {
     "name": "#%%\n"
    }
   }
  },
  {
   "cell_type": "code",
   "execution_count": 91,
   "outputs": [
    {
     "name": "stdout",
     "output_type": "stream",
     "text": [
      "Driving!\n"
     ]
    }
   ],
   "source": [
    "# However, if you add the required method, it works :D\n",
    "\n",
    "import abc\n",
    "\n",
    "# parent\n",
    "class Driveable(abc.ABC):\n",
    "    @abc.abstractmethod\n",
    "    def drive(self):\n",
    "        pass\n",
    "\n",
    "# also abstract, no 'drive' method:\n",
    "class Car(Driveable):\n",
    "    def drive(self):\n",
    "        print(\"Driving!\")\n",
    "\n",
    "my_car = Car()\n",
    "my_car.drive()"
   ],
   "metadata": {
    "collapsed": false,
    "pycharm": {
     "name": "#%%\n"
    }
   }
  },
  {
   "cell_type": "code",
   "execution_count": 92,
   "outputs": [
    {
     "data": {
      "text/plain": "'\\n    BETTER THAN META\\n\\n    Utilities that are better equipped to handle most\\n    issues with which metaclasses are commonly used to\\n    handle.\\n'"
     },
     "execution_count": 92,
     "metadata": {},
     "output_type": "execute_result"
    }
   ],
   "source": [
    "'''\n",
    "    BETTER THAN META\n",
    "\n",
    "    Utilities that are better equipped to handle most\n",
    "    issues with which metaclasses are commonly used to\n",
    "    handle.\n",
    "'''"
   ],
   "metadata": {
    "collapsed": false,
    "pycharm": {
     "name": "#%%\n"
    }
   }
  },
  {
   "cell_type": "code",
   "execution_count": 93,
   "outputs": [
    {
     "ename": "NameError",
     "evalue": "name 'descriptor' is not defined",
     "output_type": "error",
     "traceback": [
      "\u001B[0;31m---------------------------------------------------------------------------\u001B[0m",
      "\u001B[0;31mNameError\u001B[0m                                 Traceback (most recent call last)",
      "\u001B[0;32m<ipython-input-93-a9de18cd7080>\u001B[0m in \u001B[0;36m<module>\u001B[0;34m\u001B[0m\n\u001B[1;32m      2\u001B[0m \u001B[0;31m#   ** descriptor has had __set__, __delete__, __get__ up until now\u001B[0m\u001B[0;34m\u001B[0m\u001B[0;34m\u001B[0m\u001B[0;34m\u001B[0m\u001B[0m\n\u001B[1;32m      3\u001B[0m \u001B[0;34m\u001B[0m\u001B[0m\n\u001B[0;32m----> 4\u001B[0;31m \u001B[0mdescriptor\u001B[0m\u001B[0;34m.\u001B[0m\u001B[0m__set_name__\u001B[0m\u001B[0;34m\u001B[0m\u001B[0;34m\u001B[0m\u001B[0m\n\u001B[0m",
      "\u001B[0;31mNameError\u001B[0m: name 'descriptor' is not defined"
     ]
    }
   ],
   "source": [
    "# descriptor dunder functions now include __set_name__\n",
    "#   ** descriptor has had __set__, __delete__, __get__ up until now\n",
    "\n",
    "# descriptor.__set_name__\n",
    "\n",
    "# if this is defined, then AFTER class creation, python's\n",
    "# default metaclass will call __set_name__"
   ],
   "metadata": {
    "collapsed": false,
    "pycharm": {
     "name": "#%%\n"
    }
   }
  },
  {
   "cell_type": "code",
   "execution_count": 94,
   "outputs": [],
   "source": [
    "# Class Decorators:\n",
    "\n",
    "# is a function that takes a class and returns a class,\n",
    "# usually modifying in the process.\n",
    "\n",
    "# do not affect metaclasses."
   ],
   "metadata": {
    "collapsed": false,
    "pycharm": {
     "name": "#%%\n"
    }
   }
  },
  {
   "cell_type": "code",
   "execution_count": null,
   "outputs": [],
   "source": [],
   "metadata": {
    "collapsed": false,
    "pycharm": {
     "name": "#%%\n"
    }
   }
  }
 ],
 "metadata": {
  "kernelspec": {
   "display_name": "Python 3",
   "language": "python",
   "name": "python3"
  },
  "language_info": {
   "codemirror_mode": {
    "name": "ipython",
    "version": 2
   },
   "file_extension": ".py",
   "mimetype": "text/x-python",
   "name": "python",
   "nbconvert_exporter": "python",
   "pygments_lexer": "ipython2",
   "version": "2.7.6"
  }
 },
 "nbformat": 4,
 "nbformat_minor": 0
}