{
 "cells": [
  {
   "cell_type": "markdown",
   "metadata": {
    "collapsed": true,
    "pycharm": {
     "name": "#%% md\n"
    }
   },
   "source": [
    "# PyCon AU 2019\n",
    "## Fantastic Blocks And Where To Hide Them\n",
    "[pycon-au.org/talks](https://2019.pycon-au.org/talks/fantastic-blocks-and-where-to-hide-them)\n",
    "\n",
    "[youtube video](https://www.youtube.com/watch?v=mBavPw0Kc0w)"
   ]
  },
  {
   "cell_type": "markdown",
   "source": [
    "# PLEASE NOTE!\n",
    "## You absolutely MUST watch this talk or you will not know what, in all glorious hell, is going on.\n",
    "### (P.S. - I'm talking to me, not you - personal note for me ... not you. Me, no you.)\n",
    "\n",
    "Ok! Great! Thanks!"
   ],
   "metadata": {
    "collapsed": false
   }
  },
  {
   "cell_type": "markdown",
   "source": [
    "```psudocode\n",
    "def markup_tag(tag_name, f):\n",
    "    tag_builder = TagBuilder(tag_name)\n",
    "    (tag_builder)\n",
    "    return tag_builder.build()\n",
    "```"
   ],
   "metadata": {
    "collapsed": false
   }
  },
  {
   "cell_type": "code",
   "execution_count": 1,
   "outputs": [
    {
     "ename": "NameError",
     "evalue": "name 'markup' is not defined",
     "output_type": "error",
     "traceback": [
      "\u001B[0;31m---------------------------------------------------------------------------\u001B[0m",
      "\u001B[0;31mNameError\u001B[0m                                 Traceback (most recent call last)",
      "\u001B[0;32m<ipython-input-1-2b3a35177c61>\u001B[0m in \u001B[0;36m<module>\u001B[0;34m\u001B[0m\n\u001B[1;32m     28\u001B[0m \u001B[0;34m\u001B[0m\u001B[0m\n\u001B[1;32m     29\u001B[0m \u001B[0;34m\u001B[0m\u001B[0m\n\u001B[0;32m---> 30\u001B[0;31m \u001B[0;34m@\u001B[0m\u001B[0mmarkup\u001B[0m\u001B[0;34m\u001B[0m\u001B[0;34m\u001B[0m\u001B[0m\n\u001B[0m\u001B[1;32m     31\u001B[0m \u001B[0;32mdef\u001B[0m \u001B[0mhtml_document\u001B[0m\u001B[0;34m(\u001B[0m\u001B[0mdocument\u001B[0m\u001B[0;34m)\u001B[0m\u001B[0;34m:\u001B[0m\u001B[0;34m\u001B[0m\u001B[0;34m\u001B[0m\u001B[0m\n\u001B[1;32m     32\u001B[0m     \u001B[0;34m@\u001B[0m\u001B[0mdocument\u001B[0m\u001B[0;34m.\u001B[0m\u001B[0mtag\u001B[0m\u001B[0;34m\u001B[0m\u001B[0;34m\u001B[0m\u001B[0m\n",
      "\u001B[0;31mNameError\u001B[0m: name 'markup' is not defined"
     ]
    }
   ],
   "source": [
    "from pygments.lexers import markup\n",
    "\n",
    "# builder class\n",
    "class TabBuilder:\n",
    "    def __init__(self, tag_type):\n",
    "        self.tag_type = tag_type\n",
    "        self.elements = []\n",
    "\n",
    "    def build(self):\n",
    "        return \"\\n\".join(\n",
    "                [f\"<{self.tag_type}\"]\n",
    "                + self.elements\n",
    "                + [f\"</{self.tag_type}\"]\n",
    "        )\n",
    "\n",
    "    def text(self, text):\n",
    "        self.elements.append(text)\n",
    "\n",
    "    def tag(self, f):\n",
    "        tb = TabBuilder(f.__name__)\n",
    "        f(tb)\n",
    "        self.elements.append(tb.build())\n",
    "\n",
    "    def markup(f):\n",
    "        '''Build outermost tag'''\n",
    "        tb = TabBuilder(\"html\")\n",
    "        f(tb)\n",
    "        return tb.build()\n",
    "\n",
    "\n",
    "@markup\n",
    "def html_document(document):\n",
    "    @document.tag\n",
    "    def body(tag):\n",
    "        @tag.tag\n",
    "        def p(tag):\n",
    "            tag.text(\"Hello World!\")\n",
    "        @tag.tag\n",
    "        def p(tag):\n",
    "            tag.text(\"No really, hello!\")\n"
   ],
   "metadata": {
    "collapsed": false,
    "pycharm": {
     "name": "#%%\n"
    }
   }
  }
 ],
 "metadata": {
  "kernelspec": {
   "display_name": "Python 3",
   "language": "python",
   "name": "python3"
  },
  "language_info": {
   "codemirror_mode": {
    "name": "ipython",
    "version": 2
   },
   "file_extension": ".py",
   "mimetype": "text/x-python",
   "name": "python",
   "nbconvert_exporter": "python",
   "pygments_lexer": "ipython2",
   "version": "2.7.6"
  }
 },
 "nbformat": 4,
 "nbformat_minor": 0
}